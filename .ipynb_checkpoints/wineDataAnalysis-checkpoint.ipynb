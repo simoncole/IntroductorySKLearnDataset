{
 "cells": [
  {
   "cell_type": "code",
   "execution_count": null,
   "id": "5cc5e62e",
   "metadata": {},
   "outputs": [],
   "source": [
    "import sklearn\n",
    "\n",
    "import numpy as np\n",
    "np.random.seed(42)\n",
    "\n",
    "%matplotlib inline\n",
    "import matplotlib as mpl\n",
    "import matplotlib.pyplot as plt\n",
    "mpl.rc('axes', labelsize=14)\n",
    "mpl.rc('xtick', labelsize=12)\n",
    "mpl.rc('ytick', labelsize=12)\n",
    "\n",
    "import pandas as pd\n",
    "\n",
    "from sklearn.datasets import load_wine\n",
    "data = load_wine(return_X_y=False,as_frame=True)\n",
    "data.target[[10, 80, 140]]\n",
    "# array([0, 1, 2])\n",
    "list(data.target_names)\n",
    "# data.feature_names\n",
    "# data.data\n",
    "# data.target\n",
    "# data.target_names\n",
    "# data.frame\n",
    "\n",
    "\n",
    "# x, y = data.data[\"alcohol\"], data.data[\"ash\"]\n",
    "# print(min(x))"
   ]
  },
  {
   "cell_type": "code",
   "execution_count": null,
   "id": "556db5bb",
   "metadata": {},
   "outputs": [],
   "source": [
    "print(\"Minimums of each feature\")\n",
    "for i in data.feature_names:\n",
    "    minInFeature = min(data.data[i])\n",
    "    print(\"min \" + i + \": \" + str(minInFeature))\n",
    "    \n",
    "print(\"\\nMaximums of each feature\")\n",
    "for i in data.feature_names:\n",
    "    maxInFeature = max(data.data[i])\n",
    "    print(\"max \" + i + \": \" + str(maxInFeature))\n",
    "    \n",
    "print(\"\\nAverage value of each feature\")\n",
    "for i in data.feature_names:\n",
    "    avg = sum(data.data[i]) / len(data.data[i])\n",
    "    print(\"avg \" + i + \": \" + str(avg))"
   ]
  }
 ],
 "metadata": {
  "kernelspec": {
   "display_name": "Python 3 (ipykernel)",
   "language": "python",
   "name": "python3"
  },
  "language_info": {
   "codemirror_mode": {
    "name": "ipython",
    "version": 3
   },
   "file_extension": ".py",
   "mimetype": "text/x-python",
   "name": "python",
   "nbconvert_exporter": "python",
   "pygments_lexer": "ipython3",
   "version": "3.8.5"
  }
 },
 "nbformat": 4,
 "nbformat_minor": 5
}
