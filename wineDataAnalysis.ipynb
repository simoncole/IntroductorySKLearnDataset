{
 "cells": [
  {
   "cell_type": "code",
   "execution_count": 1,
   "id": "5cc5e62e",
   "metadata": {},
   "outputs": [
    {
     "data": {
      "text/plain": [
       "['class_0', 'class_1', 'class_2']"
      ]
     },
     "execution_count": 1,
     "metadata": {},
     "output_type": "execute_result"
    }
   ],
   "source": [
    "import sklearn\n",
    "\n",
    "import numpy as np\n",
    "np.random.seed(42)\n",
    "\n",
    "%matplotlib inline\n",
    "import matplotlib as mpl\n",
    "import matplotlib.pyplot as plt\n",
    "mpl.rc('axes', labelsize=14)\n",
    "mpl.rc('xtick', labelsize=12)\n",
    "mpl.rc('ytick', labelsize=12)\n",
    "\n",
    "import pandas as pd\n",
    "\n",
    "from sklearn.datasets import load_wine\n",
    "data = load_wine(return_X_y=False,as_frame=True)\n",
    "data.target[[10, 80, 140]]\n",
    "# array([0, 1, 2])\n",
    "list(data.target_names)\n",
    "# data.feature_names\n",
    "# data.data\n",
    "# data.target\n",
    "# data.target_names\n",
    "# data.frame\n",
    "\n",
    "\n",
    "# x, y = data.data[\"alcohol\"], data.data[\"ash\"]\n",
    "# print(min(x))"
   ]
  },
  {
   "cell_type": "code",
   "execution_count": 2,
   "id": "556db5bb",
   "metadata": {},
   "outputs": [
    {
     "name": "stdout",
     "output_type": "stream",
     "text": [
      "Minimums of each feature\n",
      "min alcohol: 11.03\n",
      "min malic_acid: 0.74\n",
      "min ash: 1.36\n",
      "min alcalinity_of_ash: 10.6\n",
      "min magnesium: 70.0\n",
      "min total_phenols: 0.98\n",
      "min flavanoids: 0.34\n",
      "min nonflavanoid_phenols: 0.13\n",
      "min proanthocyanins: 0.41\n",
      "min color_intensity: 1.28\n",
      "min hue: 0.48\n",
      "min od280/od315_of_diluted_wines: 1.27\n",
      "min proline: 278.0\n",
      "\n",
      "Maximums of each feature\n",
      "max alcohol: 14.83\n",
      "max malic_acid: 5.8\n",
      "max ash: 3.23\n",
      "max alcalinity_of_ash: 30.0\n",
      "max magnesium: 162.0\n",
      "max total_phenols: 3.88\n",
      "max flavanoids: 5.08\n",
      "max nonflavanoid_phenols: 0.66\n",
      "max proanthocyanins: 3.58\n",
      "max color_intensity: 13.0\n",
      "max hue: 1.71\n",
      "max od280/od315_of_diluted_wines: 4.0\n",
      "max proline: 1680.0\n",
      "\n",
      "Average value of each feature\n",
      "avg alcohol: 13.000617977528083\n",
      "avg malic_acid: 2.336348314606741\n",
      "avg ash: 2.3665168539325854\n",
      "avg alcalinity_of_ash: 19.49494382022472\n",
      "avg magnesium: 99.74157303370787\n",
      "avg total_phenols: 2.295112359550562\n",
      "avg flavanoids: 2.0292696629213474\n",
      "avg nonflavanoid_phenols: 0.36185393258426973\n",
      "avg proanthocyanins: 1.5908988764044953\n",
      "avg color_intensity: 5.058089882022473\n",
      "avg hue: 0.9574494382022468\n",
      "avg od280/od315_of_diluted_wines: 2.6116853932584254\n",
      "avg proline: 746.8932584269663\n"
     ]
    }
   ],
   "source": [
    "print(\"Minimums of each feature\")\n",
    "for i in data.feature_names:\n",
    "    minInFeature = min(data.data[i])\n",
    "    print(\"min \" + i + \": \" + str(minInFeature))\n",
    "    \n",
    "print(\"\\nMaximums of each feature\")\n",
    "for i in data.feature_names:\n",
    "    maxInFeature = max(data.data[i])\n",
    "    print(\"max \" + i + \": \" + str(maxInFeature))\n",
    "    \n",
    "print(\"\\nAverage value of each feature\")\n",
    "for i in data.feature_names:\n",
    "    avg = sum(data.data[i]) / len(data.data[i])\n",
    "    print(\"avg \" + i + \": \" + str(avg))"
   ]
  }
 ],
 "metadata": {
  "kernelspec": {
   "display_name": "Python 3",
   "language": "python",
   "name": "python3"
  },
  "language_info": {
   "codemirror_mode": {
    "name": "ipython",
    "version": 3
   },
   "file_extension": ".py",
   "mimetype": "text/x-python",
   "name": "python",
   "nbconvert_exporter": "python",
   "pygments_lexer": "ipython3",
   "version": "3.8.5"
  },
  "vscode": {
   "interpreter": {
    "hash": "aee8b7b246df8f9039afb4144a1f6fd8d2ca17a180786b69acc140d282b71a49"
   }
  }
 },
 "nbformat": 4,
 "nbformat_minor": 5
}
